{
 "cells": [
  {
   "cell_type": "code",
   "execution_count": 1,
   "metadata": {},
   "outputs": [
    {
     "data": {
      "text/plain": [
       "'\\n    CS506 Spring 2018 - Homework 1.2\\n    Probability / Linear Algebra\\n    author: Nikolakaki Sofia\\n    ------------------------------------------\\n'"
      ]
     },
     "execution_count": 1,
     "metadata": {},
     "output_type": "execute_result"
    }
   ],
   "source": [
    "\"\"\"\n",
    "    CS506 Spring 2018 - Homework 1.2\n",
    "    Probability / Linear Algebra\n",
    "    author: Nikolakaki Sofia\n",
    "    ------------------------------------------\n",
    "\"\"\""
   ]
  },
  {
   "cell_type": "markdown",
   "metadata": {},
   "source": [
    "In this assignment, we will create a gaussian CDF from a probability distribution. \n",
    "This assignment is to be completed **INDIVIDUALLY** and is due on **February 10** at **7pm**.\n",
    "\n",
    "Please update the README file with your BU username. In case you are using the 3-day extension, please mention it in your README file."
   ]
  },
  {
   "cell_type": "markdown",
   "metadata": {},
   "source": [
    "The following code produces a probability distribution function. You will assume the PDF called ```distribution``` for the rest of the homework assignment."
   ]
  },
  {
   "cell_type": "code",
   "execution_count": 2,
   "metadata": {},
   "outputs": [],
   "source": [
    "\"\"\"\n",
    "Import python packages here.\n",
    "\"\"\"\n",
    "from scipy import stats \n",
    "import matplotlib.pyplot as plt\n",
    "import numpy as np\n",
    "import statsmodels.api as sm # recommended import according to the docs\n",
    "import matplotlib.pyplot as plt\n",
    "\n",
    "%matplotlib inline"
   ]
  },
  {
   "cell_type": "code",
   "execution_count": 3,
   "metadata": {},
   "outputs": [
    {
     "data": {
      "image/png": "[encoded data removed]",
      "text/plain": [
       "<matplotlib.figure.Figure at 0x1146b8f50>"
      ]
     },
     "metadata": {},
     "output_type": "display_data"
    }
   ],
   "source": [
    "xk = np.arange(7)\n",
    "pk = (0.1, 0.2, 0.3, 0.1, 0.1, 0.0, 0.2)\n",
    "distribution = stats.rv_discrete(name='custm', values=(xk, pk))\n",
    "\n",
    "fig, ax = plt.subplots(1, 1)\n",
    "ax.plot(xk, distribution.pmf(xk), 'ro', ms=12, mec='r')\n",
    "ax.vlines(xk, 0, distribution.pmf(xk), colors='r', lw=4)\n",
    "plt.title('Probality Distribution')\n",
    "plt.show()"
   ]
  },
  {
   "cell_type": "markdown",
   "metadata": {},
   "source": [
    "a) Generate samples of the intial distribution for the following number of samples i) N = 100, ii) N = 1000. In the same figure, plot the observed probability for each of the two samples, and the actual probability distribution. **(2 pts)**"
   ]
  },
  {
   "cell_type": "code",
   "execution_count": null,
   "metadata": {},
   "outputs": [],
   "source": []
  },
  {
   "cell_type": "markdown",
   "metadata": {
    "collapsed": true
   },
   "source": [
    "b) In this step you will see in practice the Central Limit Theorem by creating a **Gausssian** cumulative distribution function (CDF) from the original probability density function.\n",
    "In order to do that you need to do the following. Consider the initial probability distribution function, with $X_{i}\\in{1,2,3,4,5,6}$ according to the initial probabilities. The sum of the sample set of one random variable is $S_{N} = X_{1} +X_{2} +···+X_{N}$, while N is the size of the sample set of each random variable. You will find many such random variables, and compute the following standardize sum for each of them:\n",
    "\n",
    "$$ S_{N}^{*} = \\frac{S_{N} - N*\\mu}{\\sqrt{N}}$$\n",
    "\n",
    "Finally, you will need to create the empirical CDF (a CDF for a discrete random variable) of these standardized means for i)  1 random variable, 2) 10 random variables and 3) 100 random variables. Plot these CDF functions in the same figure.\n",
    "\n",
    "** (3 pts) **"
   ]
  },
  {
   "cell_type": "code",
   "execution_count": null,
   "metadata": {},
   "outputs": [],
   "source": []
  },
  {
   "cell_type": "markdown",
   "metadata": {
    "collapsed": true
   },
   "source": [
    "Please, report any observations you make. For instance, how do the number of random variables affect the CDF? How do you interpret the steep line of the CDF function, or the range of values it takes? ** (1 pt) **"
   ]
  },
  {
   "cell_type": "code",
   "execution_count": null,
   "metadata": {},
   "outputs": [],
   "source": []
  }
 ],
 "metadata": {
  "kernelspec": {
   "display_name": "Python 2",
   "language": "python",
   "name": "python2"
  },
  "language_info": {
   "codemirror_mode": {
    "name": "ipython",
    "version": 2
   },
   "file_extension": ".py",
   "mimetype": "text/x-python",
   "name": "python",
   "nbconvert_exporter": "python",
   "pygments_lexer": "ipython2",
   "version": "2.7.13"
  }
 },
 "nbformat": 4,
 "nbformat_minor": 2
}
