{
 "cells": [
  {
   "cell_type": "code",
   "execution_count": 1,
   "metadata": {},
   "outputs": [
    {
     "data": {
      "text/plain": [
       "'\\n    CS506 Spring 2018 - Homework 1.2\\n    Probability / Linear Algebra\\n    author: Nikolakaki Sofia\\n    ------------------------------------------\\n'"
      ]
     },
     "execution_count": 1,
     "metadata": {},
     "output_type": "execute_result"
    }
   ],
   "source": [
    "\"\"\"\n",
    "    CS506 Spring 2018 - Homework 1.2\n",
    "    Probability / Linear Algebra\n",
    "    author: Nikolakaki Sofia\n",
    "    ------------------------------------------\n",
    "\"\"\""
   ]
  },
  {
   "cell_type": "markdown",
   "metadata": {},
   "source": [
    "In this assignment, we will create a gaussian CDF from a probability distribution. \n",
    "This assignment is to be completed **INDIVIDUALLY** and is due on **February 10** at **7pm**.\n",
    "\n",
    "Please update the README file with your BU username. In case you are using the 3-day extension, please mention it in your README file."
   ]
  },
  {
   "cell_type": "markdown",
   "metadata": {},
   "source": [
    "The following code produces a probability distribution function. You will assume the PDF called ```distribution``` for the rest of the homework assignment."
   ]
  },
  {
   "cell_type": "code",
   "execution_count": 3,
   "metadata": {},
   "outputs": [],
   "source": [
    "\"\"\"\n",
    "Import python packages here.\n",
    "\"\"\"\n",
    "from scipy import stats \n",
    "import matplotlib.pyplot as plt\n",
    "import numpy as np\n",
    "import statsmodels.api as sm # recommended import according to the docs\n",
    "import matplotlib.pyplot as plt\n",
    "from pandas.core import datetools\n",
    "%matplotlib inline"
   ]
  },
  {
   "cell_type": "code",
   "execution_count": 13,
   "metadata": {
    "scrolled": true
   },
   "outputs": [
    {
     "name": "stdout",
     "output_type": "stream",
     "text": [
      "<class 'scipy.stats._distn_infrastructure.rv_sample'>\n",
      "<class 'matplotlib.axes._subplots.AxesSubplot'>\n"
     ]
    },
    {
     "data": {
      "image/png": "[encoded data removed]",
      "text/plain": [
       "<matplotlib.figure.Figure at 0x2c419cd22b0>"
      ]
     },
     "metadata": {},
     "output_type": "display_data"
    }
   ],
   "source": [
    "xk = np.arange(7)\n",
    "pk = (0.1, 0.2, 0.3, 0.1, 0.1, 0.0, 0.2)\n",
    "distribution = stats.rv_discrete(name='custm', values=(xk, pk))\n",
    "#distribution[0]\n",
    "print(type(distribution))\n",
    "fig, ax = plt.subplots(1,1)\n",
    "print(type(ax))\n",
    "ax.plot(xk, distribution.pmf(xk), 'ro', ms=12, mec='r')\n",
    "ax.vlines(xk, 0, distribution.pmf(xk), colors='r', lw=4)\n",
    "plt.title('Probality Distribution')\n",
    "plt.show()"
   ]
  },
  {
   "cell_type": "markdown",
   "metadata": {},
   "source": [
    "a) Generate samples of the intial distribution for the following number of samples i) N = 100, ii) N = 1000. In the same figure, plot the observed probability for each of the two samples, and the actual probability distribution. **(2 pts)**"
   ]
  },
  {
   "cell_type": "code",
   "execution_count": 12,
   "metadata": {
    "scrolled": false
   },
   "outputs": [
    {
     "name": "stdout",
     "output_type": "stream",
     "text": [
      "<class 'numpy.ndarray'>\n",
      "<class 'matplotlib.axes._subplots.AxesSubplot'>\n"
     ]
    },
    {
     "data": {
      "image/png": "[encoded data removed]",
      "text/plain": [
       "<matplotlib.figure.Figure at 0x2c419ed4048>"
      ]
     },
     "metadata": {},
     "output_type": "display_data"
    }
   ],
   "source": [
    "count_0=0\n",
    "count_1=0\n",
    "count_2=0\n",
    "count_3=0\n",
    "count_4=0\n",
    "count_5=0\n",
    "count_6 =0\n",
    "dis = stats.rv_discrete(name='custm', values=(xk, pk))\n",
    "k = dis.rvs(size=100)\n",
    "print(type(k))\n",
    "for i in range(len(k)):\n",
    "    if k[i] == 0 :\n",
    "        count_0 += 1\n",
    "    elif k[i] == 1:\n",
    "        count_1 += 1\n",
    "    elif k[i] == 2:\n",
    "        count_2 += 1\n",
    "    elif k[i] == 3:\n",
    "        count_3 += 1\n",
    "    elif k[i] == 4:\n",
    "        count_4 += 1\n",
    "    elif k[i] == 5:\n",
    "        count_5 += 1\n",
    "    elif k[i] == 6:\n",
    "        count_6 += 1\n",
    "\n",
    "p_0 = count_0 / 100\n",
    "p_1 = count_1 / 100\n",
    "p_2 = count_2 / 100\n",
    "p_3 = count_3 / 100\n",
    "p_4 = count_4 / 100\n",
    "p_5 = count_5 / 100\n",
    "p_6 = count_6 / 100\n",
    "pro = [p_0,p_1,p_2,p_3,p_4,p_5,p_6]\n",
    "\n",
    "# plt.plot(xk,pro,'ro')\n",
    "# plt.axis([0,6,0,])\n",
    "\n",
    "fig, ax = plt.subplots(1,1)\n",
    "print(type(ax))\n",
    "ax.plot(xk, distribution.pmf(xk), 'ro', ms=12, mec='r')\n",
    "ax.plot(xk+0.2,pro,\"go\",ms=12,mec=\"r\")\n",
    "ax.vlines(xk, 0, distribution.pmf(xk), colors='r', lw=4)\n",
    "ax.vlines(xk+0.2,0,pro,colors=\"g\",lw=4)\n",
    "plt.legend(('Original','N=100'),loc = 'upper right')\n",
    "plt.title('Probality Distribution  N=100')\n",
    "plt.show()\n",
    "\n"
   ]
  },
  {
   "cell_type": "code",
   "execution_count": 11,
   "metadata": {},
   "outputs": [
    {
     "name": "stdout",
     "output_type": "stream",
     "text": [
      "<class 'numpy.ndarray'>\n",
      "<class 'matplotlib.axes._subplots.AxesSubplot'>\n"
     ]
    },
    {
     "data": {
      "image/png": "[encoded data removed]",
      "text/plain": [
       "<matplotlib.figure.Figure at 0x2c419e36550>"
      ]
     },
     "metadata": {},
     "output_type": "display_data"
    }
   ],
   "source": [
    "count_0=0\n",
    "count_1=0\n",
    "count_2=0\n",
    "count_3=0\n",
    "count_4=0\n",
    "count_5=0\n",
    "count_6 =0\n",
    "dis = stats.rv_discrete(name='custm', values=(xk, pk))\n",
    "k = dis.rvs(size=1000)\n",
    "print(type(k))\n",
    "for i in range(len(k)):\n",
    "    if k[i] == 0 :\n",
    "        count_0 += 1\n",
    "    elif k[i] == 1:\n",
    "        count_1 += 1\n",
    "    elif k[i] == 2:\n",
    "        count_2 += 1\n",
    "    elif k[i] == 3:\n",
    "        count_3 += 1\n",
    "    elif k[i] == 4:\n",
    "        count_4 += 1\n",
    "    elif k[i] == 5:\n",
    "        count_5 += 1\n",
    "    elif k[i] == 6:\n",
    "        count_6 += 1\n",
    "\n",
    "p_0 = count_0 / 1000\n",
    "p_1 = count_1 / 1000\n",
    "p_2 = count_2 / 1000\n",
    "p_3 = count_3 / 1000\n",
    "p_4 = count_4 / 1000\n",
    "p_5 = count_5 / 1000\n",
    "p_6 = count_6 / 1000\n",
    "pro = [p_0,p_1,p_2,p_3,p_4,p_5,p_6]\n",
    "\n",
    "# plt.plot(xk,pro,'ro')\n",
    "# plt.axis([0,6,0,])\n",
    "\n",
    "fig, ax = plt.subplots(1,1)\n",
    "print(type(ax))\n",
    "ax.plot(xk, distribution.pmf(xk), 'ro', ms=12, mec='r')\n",
    "ax.plot(xk+0.2,pro,\"go\",ms=12,mec=\"r\")\n",
    "ax.vlines(xk, 0, distribution.pmf(xk), colors='r', lw=4)\n",
    "ax.vlines(xk+0.2,0,pro,colors=\"g\",lw=4)\n",
    "plt.title('Probality Distribution  N=1000')\n",
    "plt.legend(('Original','N=1000'),loc = 'upper right')\n",
    "plt.show()\n",
    "\n"
   ]
  },
  {
   "cell_type": "markdown",
   "metadata": {
    "collapsed": true
   },
   "source": [
    "b) In this step you will see in practice the Central Limit Theorem by creating a **Gausssian** cumulative distribution function (CDF) from the original probability density function.\n",
    "In order to do that you need to do the following. Consider the initial probability distribution function, with $X_{i}\\in{1,2,3,4,5,6}$ according to the initial probabilities. The sum of the sample set of one random variable is $S_{N} = X_{1} +X_{2} +···+X_{N}$, while N is the size of the sample set of each random variable. You will find many such random variables, and compute the following standardize sum for each of them:\n",
    "\n",
    "$$ S_{N}^{*} = \\frac{S_{N} - N*\\mu}{\\sqrt{N}}$$\n",
    "\n",
    "Finally, you will need to create the empirical CDF (a CDF for a discrete random variable) of these standardized means for i)  1 random variable, 2) 10 random variables and 3) 100 random variables. Plot these CDF functions in the same figure.\n",
    "\n",
    "Finally, you will need to create the empirical CDF (a CDF for a discrete random variable) of these standardized means for i) N = 1, 2) N = 10 and 3) N = 100. Plot these CDF functions in the same figure.\n",
    "\n",
    "\n",
    "The number of random variables can be ~1000.\n",
    "\n",
    "** (3 pts) **"
   ]
  },
  {
   "cell_type": "code",
   "execution_count": 91,
   "metadata": {},
   "outputs": [
    {
     "data": {
      "image/png": "[encoded data removed]",
      "text/plain": [
       "<matplotlib.figure.Figure at 0x2c41e8e8780>"
      ]
     },
     "metadata": {},
     "output_type": "display_data"
    }
   ],
   "source": [
    "import math\n",
    "from itertools import *\n",
    "import collections\n",
    "import numpy as np\n",
    "from scipy.stats import norm\n",
    "def get_newSN(N):\n",
    "    if N <= 0 :\n",
    "        return 0\n",
    "    u = 0*0.1 + 1*0.2 +2*0.3 +3*0.1+4*0.1+5*0+6*0.2\n",
    "    dis = stats.rv_discrete(name='custm', values=(xk, pk))\n",
    "    i = 0\n",
    "    sn = []\n",
    "    while i < 1000:\n",
    "        k = dis.rvs(size=N)\n",
    "        sum_k = sum(list(k))\n",
    "        sn.append((sum_k - (N * u))/math.sqrt(N))\n",
    "        i += 1\n",
    "    return sn\n",
    "\n",
    "\n",
    "plt.hist(get_newSN(1), bins=1000, normed=True, cumulative=True, label='CDF DATA', histtype='step', alpha=0.55, color='blue')\n",
    "plt.hist(get_newSN(10), bins=1000, normed=True, cumulative=True, label='CDF DATA', histtype='step', alpha=0.55, color='green')\n",
    "plt.hist(get_newSN(100), bins=1000, normed=True, cumulative=True, label='CDF DATA', histtype='step', alpha=0.55, color='red')\n",
    "plt.grid(True)\n",
    "plt.xlabel(\"SN*\")\n",
    "plt.ylabel(\"CDF\")\n",
    "plt.legend((\"N=1\",\"N=10\",\"N=100\"),loc = \"center right\")\n",
    "plt.show()"
   ]
  },
  {
   "cell_type": "markdown",
   "metadata": {
    "collapsed": true
   },
   "source": [
    "Please, report any observations you make. For instance, how do the number of random variables affect the CDF? How do you interpret the steep line of the CDF function, or the range of values it takes? ** (1 pt) **"
   ]
  },
  {
   "cell_type": "markdown",
   "metadata": {
    "collapsed": true
   },
   "source": [
    "Answer:  \n",
    "Larger number of random variables means the larger number of x axis because the larger size of random variables means the more differences will appear \n",
    "\n",
    "The figure of larger number of random variables is more smooth.\n",
    "\n",
    "The dots around axis = 0 form steeper line which means the sum of each random variable have larger chance equal to n*μ"
   ]
  },
  {
   "cell_type": "code",
   "execution_count": null,
   "metadata": {
    "collapsed": true
   },
   "outputs": [],
   "source": []
  }
 ],
 "metadata": {
  "kernelspec": {
   "display_name": "Python 3",
   "language": "python",
   "name": "python3"
  },
  "language_info": {
   "codemirror_mode": {
    "name": "ipython",
    "version": 3
   },
   "file_extension": ".py",
   "mimetype": "text/x-python",
   "name": "python",
   "nbconvert_exporter": "python",
   "pygments_lexer": "ipython3",
   "version": "3.6.3"
  }
 },
 "nbformat": 4,
 "nbformat_minor": 2
}
